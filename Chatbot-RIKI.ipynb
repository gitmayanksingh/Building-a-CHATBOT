{
  "nbformat": 4,
  "nbformat_minor": 0,
  "metadata": {
    "kernelspec": {
      "name": "python3",
      "display_name": "Python 3"
    },
    "language_info": {
      "codemirror_mode": {
        "name": "ipython",
        "version": 3
      },
      "file_extension": ".py",
      "mimetype": "text/x-python",
      "name": "python",
      "nbconvert_exporter": "python",
      "pygments_lexer": "ipython3",
      "version": "3.6.8"
    },
    "colab": {
      "name": "Industry Grade Project - Chatbot.ipynb",
      "provenance": [],
      "collapsed_sections": [],
      "toc_visible": true,
      "include_colab_link": true
    },
    "accelerator": "GPU"
  },
  "cells": [
    {
      "cell_type": "markdown",
      "metadata": {
        "id": "view-in-github",
        "colab_type": "text"
      },
      "source": [
        "<a href=\"https://colab.research.google.com/github/gitmayanksingh/Building-a-CHATBOT/blob/master/Chatbot-RIKI.ipynb\" target=\"_parent\"><img src=\"https://colab.research.google.com/assets/colab-badge.svg\" alt=\"Open In Colab\"/></a>"
      ]
    },
    {
      "cell_type": "markdown",
      "metadata": {
        "id": "gS_LZuJuaVw0",
        "colab_type": "text"
      },
      "source": [
        "\n",
        "```\n",
        "# OPEN IN GOOGLE COLAB FOR BETTER EXPERIENCE. \n",
        "```\n",
        "\n"
      ]
    },
    {
      "cell_type": "markdown",
      "metadata": {
        "id": "Xx7CCJZKdcC2",
        "colab_type": "text"
      },
      "source": [
        "# Building a Chatbot from Scratch \n",
        "\n",
        "---\n",
        "\n"
      ]
    },
    {
      "cell_type": "markdown",
      "metadata": {
        "id": "JsR2PuNPdcC5",
        "colab_type": "text"
      },
      "source": [
        "##### In this project we will build a chatbot from scratch using the corenell University's Movie Dialogue corpus.\n",
        "##### We will be using a deep learning based architecture with the main components as a lstm based encoder and decoder."
      ]
    },
    {
      "cell_type": "code",
      "metadata": {
        "id": "hepoYKVUbkpC",
        "colab_type": "code",
        "outputId": "520e50b1-8e0a-486e-9d3d-2c8cc0de6324",
        "colab": {
          "base_uri": "https://localhost:8080/",
          "height": 89
        }
      },
      "source": [
        "!pip install textBlob"
      ],
      "execution_count": 0,
      "outputs": [
        {
          "output_type": "stream",
          "text": [
            "Requirement already satisfied: textBlob in /usr/local/lib/python3.6/dist-packages (0.15.3)\n",
            "Requirement already satisfied: nltk>=3.1 in /usr/local/lib/python3.6/dist-packages (from textBlob) (3.2.5)\n",
            "Requirement already satisfied: six in /usr/local/lib/python3.6/dist-packages (from nltk>=3.1->textBlob) (1.12.0)\n"
          ],
          "name": "stdout"
        }
      ]
    },
    {
      "cell_type": "code",
      "metadata": {
        "id": "r3PM2CFnMqNS",
        "colab_type": "code",
        "outputId": "0974c08d-d155-45d7-e85d-cd552233cc63",
        "colab": {
          "base_uri": "https://localhost:8080/",
          "height": 124
        }
      },
      "source": [
        "!pip install pyspellchecker"
      ],
      "execution_count": 0,
      "outputs": [
        {
          "output_type": "stream",
          "text": [
            "Collecting pyspellchecker\n",
            "\u001b[?25l  Downloading https://files.pythonhosted.org/packages/04/d1/ec4e830e9f9c1fd788e1459dd09279fdf807bc7a475579fd7192450b879c/pyspellchecker-0.5.4-py2.py3-none-any.whl (1.9MB)\n",
            "\r\u001b[K     |▏                               | 10kB 14.5MB/s eta 0:00:01\r\u001b[K     |▍                               | 20kB 4.2MB/s eta 0:00:01\r\u001b[K     |▌                               | 30kB 5.4MB/s eta 0:00:01\r\u001b[K     |▊                               | 40kB 5.4MB/s eta 0:00:01\r\u001b[K     |▉                               | 51kB 4.7MB/s eta 0:00:01\r\u001b[K     |█                               | 61kB 5.2MB/s eta 0:00:01\r\u001b[K     |█▏                              | 71kB 5.5MB/s eta 0:00:01\r\u001b[K     |█▍                              | 81kB 5.8MB/s eta 0:00:01\r\u001b[K     |█▌                              | 92kB 6.2MB/s eta 0:00:01\r\u001b[K     |█▊                              | 102kB 6.2MB/s eta 0:00:01\r\u001b[K     |█▉                              | 112kB 6.2MB/s eta 0:00:01\r\u001b[K     |██                              | 122kB 6.2MB/s eta 0:00:01\r\u001b[K     |██▎                             | 133kB 6.2MB/s eta 0:00:01\r\u001b[K     |██▍                             | 143kB 6.2MB/s eta 0:00:01\r\u001b[K     |██▋                             | 153kB 6.2MB/s eta 0:00:01\r\u001b[K     |██▊                             | 163kB 6.2MB/s eta 0:00:01\r\u001b[K     |███                             | 174kB 6.2MB/s eta 0:00:01\r\u001b[K     |███                             | 184kB 6.2MB/s eta 0:00:01\r\u001b[K     |███▎                            | 194kB 6.2MB/s eta 0:00:01\r\u001b[K     |███▍                            | 204kB 6.2MB/s eta 0:00:01\r\u001b[K     |███▋                            | 215kB 6.2MB/s eta 0:00:01\r\u001b[K     |███▊                            | 225kB 6.2MB/s eta 0:00:01\r\u001b[K     |████                            | 235kB 6.2MB/s eta 0:00:01\r\u001b[K     |████▏                           | 245kB 6.2MB/s eta 0:00:01\r\u001b[K     |████▎                           | 256kB 6.2MB/s eta 0:00:01\r\u001b[K     |████▌                           | 266kB 6.2MB/s eta 0:00:01\r\u001b[K     |████▋                           | 276kB 6.2MB/s eta 0:00:01\r\u001b[K     |████▉                           | 286kB 6.2MB/s eta 0:00:01\r\u001b[K     |█████                           | 296kB 6.2MB/s eta 0:00:01\r\u001b[K     |█████▏                          | 307kB 6.2MB/s eta 0:00:01\r\u001b[K     |█████▎                          | 317kB 6.2MB/s eta 0:00:01\r\u001b[K     |█████▌                          | 327kB 6.2MB/s eta 0:00:01\r\u001b[K     |█████▋                          | 337kB 6.2MB/s eta 0:00:01\r\u001b[K     |█████▉                          | 348kB 6.2MB/s eta 0:00:01\r\u001b[K     |██████                          | 358kB 6.2MB/s eta 0:00:01\r\u001b[K     |██████▏                         | 368kB 6.2MB/s eta 0:00:01\r\u001b[K     |██████▍                         | 378kB 6.2MB/s eta 0:00:01\r\u001b[K     |██████▌                         | 389kB 6.2MB/s eta 0:00:01\r\u001b[K     |██████▊                         | 399kB 6.2MB/s eta 0:00:01\r\u001b[K     |██████▉                         | 409kB 6.2MB/s eta 0:00:01\r\u001b[K     |███████                         | 419kB 6.2MB/s eta 0:00:01\r\u001b[K     |███████▏                        | 430kB 6.2MB/s eta 0:00:01\r\u001b[K     |███████▍                        | 440kB 6.2MB/s eta 0:00:01\r\u001b[K     |███████▌                        | 450kB 6.2MB/s eta 0:00:01\r\u001b[K     |███████▊                        | 460kB 6.2MB/s eta 0:00:01\r\u001b[K     |████████                        | 471kB 6.2MB/s eta 0:00:01\r\u001b[K     |████████                        | 481kB 6.2MB/s eta 0:00:01\r\u001b[K     |████████▎                       | 491kB 6.2MB/s eta 0:00:01\r\u001b[K     |████████▍                       | 501kB 6.2MB/s eta 0:00:01\r\u001b[K     |████████▋                       | 512kB 6.2MB/s eta 0:00:01\r\u001b[K     |████████▊                       | 522kB 6.2MB/s eta 0:00:01\r\u001b[K     |█████████                       | 532kB 6.2MB/s eta 0:00:01\r\u001b[K     |█████████                       | 542kB 6.2MB/s eta 0:00:01\r\u001b[K     |█████████▎                      | 552kB 6.2MB/s eta 0:00:01\r\u001b[K     |█████████▍                      | 563kB 6.2MB/s eta 0:00:01\r\u001b[K     |█████████▋                      | 573kB 6.2MB/s eta 0:00:01\r\u001b[K     |█████████▉                      | 583kB 6.2MB/s eta 0:00:01\r\u001b[K     |██████████                      | 593kB 6.2MB/s eta 0:00:01\r\u001b[K     |██████████▏                     | 604kB 6.2MB/s eta 0:00:01\r\u001b[K     |██████████▎                     | 614kB 6.2MB/s eta 0:00:01\r\u001b[K     |██████████▌                     | 624kB 6.2MB/s eta 0:00:01\r\u001b[K     |██████████▋                     | 634kB 6.2MB/s eta 0:00:01\r\u001b[K     |██████████▉                     | 645kB 6.2MB/s eta 0:00:01\r\u001b[K     |███████████                     | 655kB 6.2MB/s eta 0:00:01\r\u001b[K     |███████████▏                    | 665kB 6.2MB/s eta 0:00:01\r\u001b[K     |███████████▎                    | 675kB 6.2MB/s eta 0:00:01\r\u001b[K     |███████████▌                    | 686kB 6.2MB/s eta 0:00:01\r\u001b[K     |███████████▊                    | 696kB 6.2MB/s eta 0:00:01\r\u001b[K     |███████████▉                    | 706kB 6.2MB/s eta 0:00:01\r\u001b[K     |████████████                    | 716kB 6.2MB/s eta 0:00:01\r\u001b[K     |████████████▏                   | 727kB 6.2MB/s eta 0:00:01\r\u001b[K     |████████████▍                   | 737kB 6.2MB/s eta 0:00:01\r\u001b[K     |████████████▌                   | 747kB 6.2MB/s eta 0:00:01\r\u001b[K     |████████████▊                   | 757kB 6.2MB/s eta 0:00:01\r\u001b[K     |████████████▉                   | 768kB 6.2MB/s eta 0:00:01\r\u001b[K     |█████████████                   | 778kB 6.2MB/s eta 0:00:01\r\u001b[K     |█████████████▏                  | 788kB 6.2MB/s eta 0:00:01\r\u001b[K     |█████████████▍                  | 798kB 6.2MB/s eta 0:00:01\r\u001b[K     |█████████████▋                  | 808kB 6.2MB/s eta 0:00:01\r\u001b[K     |█████████████▊                  | 819kB 6.2MB/s eta 0:00:01\r\u001b[K     |██████████████                  | 829kB 6.2MB/s eta 0:00:01\r\u001b[K     |██████████████                  | 839kB 6.2MB/s eta 0:00:01\r\u001b[K     |██████████████▎                 | 849kB 6.2MB/s eta 0:00:01\r\u001b[K     |██████████████▍                 | 860kB 6.2MB/s eta 0:00:01\r\u001b[K     |██████████████▋                 | 870kB 6.2MB/s eta 0:00:01\r\u001b[K     |██████████████▊                 | 880kB 6.2MB/s eta 0:00:01\r\u001b[K     |███████████████                 | 890kB 6.2MB/s eta 0:00:01\r\u001b[K     |███████████████                 | 901kB 6.2MB/s eta 0:00:01\r\u001b[K     |███████████████▎                | 911kB 6.2MB/s eta 0:00:01\r\u001b[K     |███████████████▌                | 921kB 6.2MB/s eta 0:00:01\r\u001b[K     |███████████████▋                | 931kB 6.2MB/s eta 0:00:01\r\u001b[K     |███████████████▉                | 942kB 6.2MB/s eta 0:00:01\r\u001b[K     |████████████████                | 952kB 6.2MB/s eta 0:00:01\r\u001b[K     |████████████████▏               | 962kB 6.2MB/s eta 0:00:01\r\u001b[K     |████████████████▎               | 972kB 6.2MB/s eta 0:00:01\r\u001b[K     |████████████████▌               | 983kB 6.2MB/s eta 0:00:01\r\u001b[K     |████████████████▋               | 993kB 6.2MB/s eta 0:00:01\r\u001b[K     |████████████████▉               | 1.0MB 6.2MB/s eta 0:00:01\r\u001b[K     |█████████████████               | 1.0MB 6.2MB/s eta 0:00:01\r\u001b[K     |█████████████████▏              | 1.0MB 6.2MB/s eta 0:00:01\r\u001b[K     |█████████████████▍              | 1.0MB 6.2MB/s eta 0:00:01\r\u001b[K     |█████████████████▌              | 1.0MB 6.2MB/s eta 0:00:01\r\u001b[K     |█████████████████▊              | 1.1MB 6.2MB/s eta 0:00:01\r\u001b[K     |█████████████████▉              | 1.1MB 6.2MB/s eta 0:00:01\r\u001b[K     |██████████████████              | 1.1MB 6.2MB/s eta 0:00:01\r\u001b[K     |██████████████████▏             | 1.1MB 6.2MB/s eta 0:00:01\r\u001b[K     |██████████████████▍             | 1.1MB 6.2MB/s eta 0:00:01\r\u001b[K     |██████████████████▌             | 1.1MB 6.2MB/s eta 0:00:01\r\u001b[K     |██████████████████▊             | 1.1MB 6.2MB/s eta 0:00:01\r\u001b[K     |██████████████████▉             | 1.1MB 6.2MB/s eta 0:00:01\r\u001b[K     |███████████████████             | 1.1MB 6.2MB/s eta 0:00:01\r\u001b[K     |███████████████████▎            | 1.1MB 6.2MB/s eta 0:00:01\r\u001b[K     |███████████████████▍            | 1.2MB 6.2MB/s eta 0:00:01\r\u001b[K     |███████████████████▋            | 1.2MB 6.2MB/s eta 0:00:01\r\u001b[K     |███████████████████▊            | 1.2MB 6.2MB/s eta 0:00:01\r\u001b[K     |████████████████████            | 1.2MB 6.2MB/s eta 0:00:01\r\u001b[K     |████████████████████            | 1.2MB 6.2MB/s eta 0:00:01\r\u001b[K     |████████████████████▎           | 1.2MB 6.2MB/s eta 0:00:01\r\u001b[K     |████████████████████▍           | 1.2MB 6.2MB/s eta 0:00:01\r\u001b[K     |████████████████████▋           | 1.2MB 6.2MB/s eta 0:00:01\r\u001b[K     |████████████████████▊           | 1.2MB 6.2MB/s eta 0:00:01\r\u001b[K     |█████████████████████           | 1.2MB 6.2MB/s eta 0:00:01\r\u001b[K     |█████████████████████▏          | 1.3MB 6.2MB/s eta 0:00:01\r\u001b[K     |█████████████████████▎          | 1.3MB 6.2MB/s eta 0:00:01\r\u001b[K     |█████████████████████▌          | 1.3MB 6.2MB/s eta 0:00:01\r\u001b[K     |█████████████████████▋          | 1.3MB 6.2MB/s eta 0:00:01\r\u001b[K     |█████████████████████▉          | 1.3MB 6.2MB/s eta 0:00:01\r\u001b[K     |██████████████████████          | 1.3MB 6.2MB/s eta 0:00:01\r\u001b[K     |██████████████████████▏         | 1.3MB 6.2MB/s eta 0:00:01\r\u001b[K     |██████████████████████▎         | 1.3MB 6.2MB/s eta 0:00:01\r\u001b[K     |██████████████████████▌         | 1.3MB 6.2MB/s eta 0:00:01\r\u001b[K     |██████████████████████▋         | 1.4MB 6.2MB/s eta 0:00:01\r\u001b[K     |██████████████████████▉         | 1.4MB 6.2MB/s eta 0:00:01\r\u001b[K     |███████████████████████         | 1.4MB 6.2MB/s eta 0:00:01\r\u001b[K     |███████████████████████▏        | 1.4MB 6.2MB/s eta 0:00:01\r\u001b[K     |███████████████████████▍        | 1.4MB 6.2MB/s eta 0:00:01\r\u001b[K     |███████████████████████▌        | 1.4MB 6.2MB/s eta 0:00:01\r\u001b[K     |███████████████████████▊        | 1.4MB 6.2MB/s eta 0:00:01\r\u001b[K     |███████████████████████▉        | 1.4MB 6.2MB/s eta 0:00:01\r\u001b[K     |████████████████████████        | 1.4MB 6.2MB/s eta 0:00:01\r\u001b[K     |████████████████████████▏       | 1.4MB 6.2MB/s eta 0:00:01\r\u001b[K     |████████████████████████▍       | 1.5MB 6.2MB/s eta 0:00:01\r\u001b[K     |████████████████████████▌       | 1.5MB 6.2MB/s eta 0:00:01\r\u001b[K     |████████████████████████▊       | 1.5MB 6.2MB/s eta 0:00:01\r\u001b[K     |█████████████████████████       | 1.5MB 6.2MB/s eta 0:00:01\r\u001b[K     |█████████████████████████       | 1.5MB 6.2MB/s eta 0:00:01\r\u001b[K     |█████████████████████████▎      | 1.5MB 6.2MB/s eta 0:00:01\r\u001b[K     |█████████████████████████▍      | 1.5MB 6.2MB/s eta 0:00:01\r\u001b[K     |█████████████████████████▋      | 1.5MB 6.2MB/s eta 0:00:01\r\u001b[K     |█████████████████████████▊      | 1.5MB 6.2MB/s eta 0:00:01\r\u001b[K     |██████████████████████████      | 1.5MB 6.2MB/s eta 0:00:01\r\u001b[K     |██████████████████████████      | 1.6MB 6.2MB/s eta 0:00:01\r\u001b[K     |██████████████████████████▎     | 1.6MB 6.2MB/s eta 0:00:01\r\u001b[K     |██████████████████████████▍     | 1.6MB 6.2MB/s eta 0:00:01\r\u001b[K     |██████████████████████████▋     | 1.6MB 6.2MB/s eta 0:00:01\r\u001b[K     |██████████████████████████▉     | 1.6MB 6.2MB/s eta 0:00:01\r\u001b[K     |███████████████████████████     | 1.6MB 6.2MB/s eta 0:00:01\r\u001b[K     |███████████████████████████▏    | 1.6MB 6.2MB/s eta 0:00:01\r\u001b[K     |███████████████████████████▎    | 1.6MB 6.2MB/s eta 0:00:01\r\u001b[K     |███████████████████████████▌    | 1.6MB 6.2MB/s eta 0:00:01\r\u001b[K     |███████████████████████████▋    | 1.6MB 6.2MB/s eta 0:00:01\r\u001b[K     |███████████████████████████▉    | 1.7MB 6.2MB/s eta 0:00:01\r\u001b[K     |████████████████████████████    | 1.7MB 6.2MB/s eta 0:00:01\r\u001b[K     |████████████████████████████▏   | 1.7MB 6.2MB/s eta 0:00:01\r\u001b[K     |████████████████████████████▎   | 1.7MB 6.2MB/s eta 0:00:01\r\u001b[K     |████████████████████████████▌   | 1.7MB 6.2MB/s eta 0:00:01\r\u001b[K     |████████████████████████████▊   | 1.7MB 6.2MB/s eta 0:00:01\r\u001b[K     |████████████████████████████▉   | 1.7MB 6.2MB/s eta 0:00:01\r\u001b[K     |█████████████████████████████   | 1.7MB 6.2MB/s eta 0:00:01\r\u001b[K     |█████████████████████████████▏  | 1.7MB 6.2MB/s eta 0:00:01\r\u001b[K     |█████████████████████████████▍  | 1.8MB 6.2MB/s eta 0:00:01\r\u001b[K     |█████████████████████████████▌  | 1.8MB 6.2MB/s eta 0:00:01\r\u001b[K     |█████████████████████████████▊  | 1.8MB 6.2MB/s eta 0:00:01\r\u001b[K     |█████████████████████████████▉  | 1.8MB 6.2MB/s eta 0:00:01\r\u001b[K     |██████████████████████████████  | 1.8MB 6.2MB/s eta 0:00:01\r\u001b[K     |██████████████████████████████▏ | 1.8MB 6.2MB/s eta 0:00:01\r\u001b[K     |██████████████████████████████▍ | 1.8MB 6.2MB/s eta 0:00:01\r\u001b[K     |██████████████████████████████▋ | 1.8MB 6.2MB/s eta 0:00:01\r\u001b[K     |██████████████████████████████▊ | 1.8MB 6.2MB/s eta 0:00:01\r\u001b[K     |███████████████████████████████ | 1.8MB 6.2MB/s eta 0:00:01\r\u001b[K     |███████████████████████████████ | 1.9MB 6.2MB/s eta 0:00:01\r\u001b[K     |███████████████████████████████▎| 1.9MB 6.2MB/s eta 0:00:01\r\u001b[K     |███████████████████████████████▍| 1.9MB 6.2MB/s eta 0:00:01\r\u001b[K     |███████████████████████████████▋| 1.9MB 6.2MB/s eta 0:00:01\r\u001b[K     |███████████████████████████████▊| 1.9MB 6.2MB/s eta 0:00:01\r\u001b[K     |████████████████████████████████| 1.9MB 6.2MB/s eta 0:00:01\r\u001b[K     |████████████████████████████████| 1.9MB 6.2MB/s \n",
            "\u001b[?25hInstalling collected packages: pyspellchecker\n",
            "Successfully installed pyspellchecker-0.5.4\n"
          ],
          "name": "stdout"
        }
      ]
    },
    {
      "cell_type": "code",
      "metadata": {
        "id": "V7b5o0oxdcC7",
        "colab_type": "code",
        "colab": {}
      },
      "source": [
        "from keras.models import Model\n",
        "from keras.layers.recurrent import LSTM\n",
        "from keras.layers import Dense, Input, Embedding\n",
        "from keras.preprocessing.sequence import pad_sequences\n",
        "from keras.callbacks import ModelCheckpoint\n",
        "from collections import Counter\n",
        "import nltk\n",
        "import numpy as np\n",
        "from sklearn.model_selection import train_test_split\n",
        "from textblob import TextBlob\n",
        "import re\n",
        "from spellchecker import SpellChecker"
      ],
      "execution_count": 0,
      "outputs": []
    },
    {
      "cell_type": "code",
      "metadata": {
        "id": "_WFN5fXsdcDB",
        "colab_type": "code",
        "colab": {}
      },
      "source": [
        "import keras\n",
        "import nltk\n",
        "import numpy\n",
        "import sklearn"
      ],
      "execution_count": 0,
      "outputs": []
    },
    {
      "cell_type": "markdown",
      "metadata": {
        "id": "1IQF3dSidcDI",
        "colab_type": "text"
      },
      "source": [
        "* Please make sure that the version of the respective packages are met to the requirement"
      ]
    },
    {
      "cell_type": "code",
      "metadata": {
        "id": "taBeKOmJaMbu",
        "colab_type": "code",
        "colab": {}
      },
      "source": [
        "keras_v = keras.__version__\n",
        "ntlt_v = nltk.__version__\n",
        "sklearn_v = sklearn.__version__\n",
        "numpy_v = numpy.__version__"
      ],
      "execution_count": 0,
      "outputs": []
    },
    {
      "cell_type": "code",
      "metadata": {
        "id": "oCL0434GdcDK",
        "colab_type": "code",
        "colab": {}
      },
      "source": [
        "assert keras.__version__==keras_v\n",
        "assert nltk.__version__==ntlt_v\n",
        "assert sklearn.__version__==sklearn_v\n",
        "assert numpy.__version__==numpy_v"
      ],
      "execution_count": 0,
      "outputs": []
    },
    {
      "cell_type": "markdown",
      "metadata": {
        "id": "gv38ReVtdcDO",
        "colab_type": "text"
      },
      "source": [
        "Download the glove model available at https://nlp.stanford.edu/projects/glove/\n",
        "\n",
        "Specification : Twitter (2B tweets, 27B tokens, 1.2M vocab, uncased, 25d, 50d, 100d, & 200d vectors, 1.42 GB download): glove.twitter.27B.zip\n"
      ]
    },
    {
      "cell_type": "code",
      "metadata": {
        "id": "oR7_OzSMO1Z7",
        "colab_type": "code",
        "outputId": "f71c5f44-734c-4276-b02e-a31b7f3e40ec",
        "colab": {
          "base_uri": "https://localhost:8080/",
          "height": 124
        }
      },
      "source": [
        "from google.colab import drive\n",
        "drive.mount('/content/drive')"
      ],
      "execution_count": 0,
      "outputs": [
        {
          "output_type": "stream",
          "text": [
            "Go to this URL in a browser: https://accounts.google.com/o/oauth2/auth?client_id=947318989803-6bn6qk8qdgf4n4g3pfee6491hc0brc4i.apps.googleusercontent.com&redirect_uri=urn%3aietf%3awg%3aoauth%3a2.0%3aoob&response_type=code&scope=email%20https%3a%2f%2fwww.googleapis.com%2fauth%2fdocs.test%20https%3a%2f%2fwww.googleapis.com%2fauth%2fdrive%20https%3a%2f%2fwww.googleapis.com%2fauth%2fdrive.photos.readonly%20https%3a%2f%2fwww.googleapis.com%2fauth%2fpeopleapi.readonly\n",
            "\n",
            "Enter your authorization code:\n",
            "··········\n",
            "Mounted at /content/drive\n"
          ],
          "name": "stdout"
        }
      ]
    },
    {
      "cell_type": "code",
      "metadata": {
        "id": "F_yG4mV2dcDZ",
        "colab_type": "code",
        "colab": {}
      },
      "source": [
        "#Hyperparameter tuning \n",
        "RAND_STATE=np.random.seed(42)\n",
        "BATCH_SIZE = 32\n",
        "NUM_EPOCHS = 10\n",
        "GLOVE_EMBEDDING_SIZE = 100\n",
        "HIDDEN_UNITS = 256\n",
        "MAX_INPUT_SEQ_LENGTH = 40\n",
        "MAX_TARGET_SEQ_LENGTH = 40\n",
        "MAX_VOCAB_SIZE = 10000\n",
        "DATA_SET_NAME = '/content/drive/My Drive/data'\n",
        "DATA_PATH = DATA_SET_NAME+'/Industry Grade Project - Building a Chatbot/movie_lines_cleaned.txt'\n",
        "WEIGHT_FILE_PATH = DATA_SET_NAME+'/Industry Grade Project - Building a Chatbot/model-weights.h5'\n",
        "GLOVE_MODEL = DATA_SET_NAME+\"/glove.twitter.27B/glove.twitter.27B.\" + str(GLOVE_EMBEDDING_SIZE) + \"d.txt\"\n",
        "WHITELIST = 'abcdefghijklmnopqrstuvwxyz1234567890?.,'\n",
        "ignore_words = ['?', '!']"
      ],
      "execution_count": 0,
      "outputs": []
    },
    {
      "cell_type": "markdown",
      "metadata": {
        "id": "8HhBYkJ5NRhF",
        "colab_type": "text"
      },
      "source": [
        "* Function **in_white_list()** checks whether the words in **movie_lines_cleaned.txt** formed with Valid characters."
      ]
    },
    {
      "cell_type": "code",
      "metadata": {
        "id": "nsku9GyddcDe",
        "colab_type": "code",
        "colab": {}
      },
      "source": [
        "#defines the valid characters for the chatbot\n",
        "def in_white_list(_word):\n",
        "    for char in _word:\n",
        "        if char in WHITELIST:\n",
        "            return True\n",
        "\n",
        "    return False"
      ],
      "execution_count": 0,
      "outputs": []
    },
    {
      "cell_type": "markdown",
      "metadata": {
        "id": "xKA3WnoNdcDk",
        "colab_type": "text"
      },
      "source": [
        "* Load the glove word embedding in to a dictionary where the **key** is a unique **word token** and the **value** is a **d** dimension vector "
      ]
    },
    {
      "cell_type": "markdown",
      "metadata": {
        "id": "LQ6Q6VpHdcDn",
        "colab_type": "text"
      },
      "source": [
        "# Test-1"
      ]
    },
    {
      "cell_type": "code",
      "metadata": {
        "id": "_DtZYF8_dcDp",
        "colab_type": "code",
        "colab": {}
      },
      "source": [
        "def load_glove_vector():\n",
        "    _word2embedding = {}\n",
        "    file = open(GLOVE_MODEL, mode='rt', encoding='utf8')\n",
        "    for line in file:\n",
        "        words = line.strip().split()\n",
        "        #print(words)\n",
        "        word = words[0]\n",
        "        embeds = np.array(words[1:], dtype=np.float32)\n",
        "        _word2embedding[word] = embeds\n",
        "        \n",
        "    file.close()\n",
        "    print('Glove Loaded !')\n",
        "    file.close()\n",
        "    return _word2embedding"
      ],
      "execution_count": 0,
      "outputs": []
    },
    {
      "cell_type": "code",
      "metadata": {
        "id": "jdoRZsWEdcDs",
        "colab_type": "code",
        "outputId": "f987774a-a587-416e-910a-d5af5fcf1dd4",
        "colab": {
          "base_uri": "https://localhost:8080/",
          "height": 69
        }
      },
      "source": [
        "%%time\n",
        "word2embedding = load_glove_vector()"
      ],
      "execution_count": 0,
      "outputs": [
        {
          "output_type": "stream",
          "text": [
            "Glove Loaded !\n",
            "CPU times: user 37 s, sys: 1.21 s, total: 38.2 s\n",
            "Wall time: 41.4 s\n"
          ],
          "name": "stdout"
        }
      ]
    },
    {
      "cell_type": "markdown",
      "metadata": {
        "id": "uDnbxA8r1q4V",
        "colab_type": "text"
      },
      "source": [
        "*   Vector Representation for word : **robot**\n",
        "\n"
      ]
    },
    {
      "cell_type": "code",
      "metadata": {
        "id": "YPd-LZaURJws",
        "colab_type": "code",
        "outputId": "ca55a519-b41f-49d1-9001-46e1c47838ec",
        "colab": {
          "base_uri": "https://localhost:8080/",
          "height": 381
        }
      },
      "source": [
        "word2embedding.get(\"robot\")"
      ],
      "execution_count": 0,
      "outputs": [
        {
          "output_type": "execute_result",
          "data": {
            "text/plain": [
              "array([ 3.6183e-01,  8.5236e-02, -3.8136e-01,  4.2704e-01, -1.0511e-01,\n",
              "        3.9581e-01,  4.8758e-01, -8.8883e-01,  7.4575e-01, -2.5732e-02,\n",
              "        2.1829e-01,  5.0398e-01, -1.7856e+00, -3.4789e-03,  1.6188e-01,\n",
              "        1.0721e-01,  2.1314e-01, -5.4756e-02,  2.6118e-01, -3.8565e-01,\n",
              "       -6.9957e-01,  1.4678e-01, -5.8236e-01, -3.5354e-01,  2.3200e-01,\n",
              "       -7.7804e-01, -2.4003e-01,  2.5253e-01, -2.6848e-01, -1.2147e-01,\n",
              "        3.8065e-01, -9.9212e-01,  2.4743e-01, -4.0389e-01,  6.0282e-01,\n",
              "        9.8607e-02,  9.1581e-01,  1.9072e-01,  3.5004e-01, -3.1568e-01,\n",
              "        5.8921e-02,  1.0758e-01, -7.2627e-01,  1.1434e-01,  8.2518e-01,\n",
              "        8.2510e-01, -2.5450e-01,  4.6362e-01,  3.2809e-01, -4.2744e-01,\n",
              "        4.2987e-01,  7.8949e-01, -1.2018e-01, -2.3686e-01,  3.6827e-03,\n",
              "        5.5287e-02,  1.3540e-01,  7.5065e-02,  9.1749e-04,  1.9317e-01,\n",
              "       -7.3923e-02, -2.7294e-02,  3.4125e-01, -3.7098e-01, -1.7008e-01,\n",
              "       -1.8138e-01, -4.8424e-01,  3.3101e-01,  5.8830e-01, -8.8345e-02,\n",
              "        5.6709e-01,  2.1788e-01, -1.4259e+00, -2.0272e-01, -1.2790e-01,\n",
              "       -2.6362e-01, -4.1904e-01,  3.4953e-01,  2.0759e-01, -1.8592e-01,\n",
              "        9.4019e-01,  6.0354e-01,  7.5770e-03,  9.4211e-01, -5.8274e-01,\n",
              "       -5.6513e-01, -4.5944e-01, -7.1174e-01, -6.1446e-01,  1.9270e-01,\n",
              "        5.2877e-01, -4.3896e-02, -2.8221e-01,  3.9347e-01,  6.8131e-01,\n",
              "        1.8176e-01,  3.7980e-01, -1.9197e-01, -3.2808e-01,  1.5227e-01],\n",
              "      dtype=float32)"
            ]
          },
          "metadata": {
            "tags": []
          },
          "execution_count": 11
        }
      ]
    },
    {
      "cell_type": "code",
      "metadata": {
        "id": "MIMP4DESY0DS",
        "colab_type": "code",
        "colab": {}
      },
      "source": [
        "del word2embedding['-0.32053'] "
      ],
      "execution_count": 0,
      "outputs": []
    },
    {
      "cell_type": "code",
      "metadata": {
        "id": "R0x3GYLZRYkF",
        "colab_type": "code",
        "outputId": "7bf31371-db08-4628-843b-2f5bbe33c7c0",
        "colab": {
          "base_uri": "https://localhost:8080/",
          "height": 35
        }
      },
      "source": [
        "len(word2embedding.get('robot'))"
      ],
      "execution_count": 0,
      "outputs": [
        {
          "output_type": "execute_result",
          "data": {
            "text/plain": [
              "100"
            ]
          },
          "metadata": {
            "tags": []
          },
          "execution_count": 13
        }
      ]
    },
    {
      "cell_type": "code",
      "metadata": {
        "id": "gdypp8uAQ02g",
        "colab_type": "code",
        "outputId": "fb4c8666-4e91-4ae7-b43e-46f83516d0ed",
        "colab": {
          "base_uri": "https://localhost:8080/",
          "height": 35
        }
      },
      "source": [
        "len(word2embedding.keys())"
      ],
      "execution_count": 0,
      "outputs": [
        {
          "output_type": "execute_result",
          "data": {
            "text/plain": [
              "1193513"
            ]
          },
          "metadata": {
            "tags": []
          },
          "execution_count": 14
        }
      ]
    },
    {
      "cell_type": "markdown",
      "metadata": {
        "id": "OHqaVTKi0aDj",
        "colab_type": "text"
      },
      "source": [
        "**NOTE :** Length of any word will always be 100 beacause the EMBEDDING SIZE is 100 for the GLOVE MODEL"
      ]
    },
    {
      "cell_type": "markdown",
      "metadata": {
        "id": "Wu1WwP20dcDw",
        "colab_type": "text"
      },
      "source": [
        "# Check-1"
      ]
    },
    {
      "cell_type": "code",
      "metadata": {
        "id": "VknKfgmGdcDz",
        "colab_type": "code",
        "outputId": "afd39e1f-d988-4ca9-bb1e-a67b75868050",
        "colab": {
          "base_uri": "https://localhost:8080/",
          "height": 35
        }
      },
      "source": [
        "assert len(word2embedding.keys())==1193513\n",
        "for key in word2embedding.keys():\n",
        "    try:\n",
        "        assert len(word2embedding[key])==100\n",
        "    except AssertionError:\n",
        "        print (key,len(word2embedding[key])) \n",
        "\n",
        "print('Test Case 1 Passes!')    "
      ],
      "execution_count": 0,
      "outputs": [
        {
          "output_type": "stream",
          "text": [
            "Test Case 1 Passes!\n"
          ],
          "name": "stdout"
        }
      ]
    },
    {
      "cell_type": "markdown",
      "metadata": {
        "id": "mCix18rAdcD7",
        "colab_type": "text"
      },
      "source": [
        "# Data Preparation"
      ]
    },
    {
      "cell_type": "code",
      "metadata": {
        "id": "aZIaOT98S3pf",
        "colab_type": "code",
        "outputId": "31afa650-26d9-4a11-d1f3-c4390263f8eb",
        "colab": {
          "base_uri": "https://localhost:8080/",
          "height": 69
        }
      },
      "source": [
        "nltk.download('punkt')"
      ],
      "execution_count": 0,
      "outputs": [
        {
          "output_type": "stream",
          "text": [
            "[nltk_data] Downloading package punkt to /root/nltk_data...\n",
            "[nltk_data]   Unzipping tokenizers/punkt.zip.\n"
          ],
          "name": "stdout"
        },
        {
          "output_type": "execute_result",
          "data": {
            "text/plain": [
              "True"
            ]
          },
          "metadata": {
            "tags": []
          },
          "execution_count": 29
        }
      ]
    },
    {
      "cell_type": "markdown",
      "metadata": {
        "id": "eKrCmdn82-ry",
        "colab_type": "text"
      },
      "source": [
        "* **punkt** is designed to learn parameter such as Abbrebiation , periods etc in the sentence\n",
        "\n",
        "**For eg :** Punkt knows that the periods in Mr. Mayank and A.P.J Abdul Kalam do not mark sentence boundaries ."
      ]
    },
    {
      "cell_type": "code",
      "metadata": {
        "id": "bkKBqppEdcD8",
        "colab_type": "code",
        "colab": {}
      },
      "source": [
        "target_counter = Counter()\n",
        "lines = open(DATA_PATH, 'rt', encoding='utf8').read().split('\\n')\n",
        "input_texts = []\n",
        "target_texts = []\n",
        "prev_words = []"
      ],
      "execution_count": 0,
      "outputs": []
    },
    {
      "cell_type": "markdown",
      "metadata": {
        "id": "19o1aE_sZQQI",
        "colab_type": "text"
      },
      "source": [
        "## **Basic Text Preprocessing** <br>\n",
        "This basic pre-processing is necessary because if the GLOVE Model did'nt understand the word ,then it will not create the Embedding for the word.\n",
        "\n",
        "1.   Replace Contractions\n",
        "2.   whitelist_lines()\n",
        "3.   Spelling Correction Library\n",
        "     *   TextBlob\n",
        "     *   pyspellchecker\n",
        "\n",
        "\n",
        "\n"
      ]
    },
    {
      "cell_type": "markdown",
      "metadata": {
        "id": "5K_5reTTYqfm",
        "colab_type": "text"
      },
      "source": [
        "## 1. Replace Contractions"
      ]
    },
    {
      "cell_type": "code",
      "metadata": {
        "id": "zMNiFMvzWrvy",
        "colab_type": "code",
        "colab": {}
      },
      "source": [
        "contraction_dict = {\n",
        "  \"aren't\": \"are not\",\"can't\": \"cannot\",\"can't've\": \"cannot have\",\"'cause\": \"because\",\"could've\": \"could have\",\"couldn't\": \"could not\",\"couldn't've\": \"could not have\",\n",
        "  \"didn't\": \"did not\",\"doesn't\": \"does not\",\"don't\": \"do not\",\"hadn't\": \"had not\",\"hadn't've\": \"had not have\",\"hasn't\": \"has not\",\"haven't\": \"have not\",\"he'd\": \"he would\",\n",
        "  \"he'd've\": \"he would have\",\"he'll\": \"he will\",\"he'll've\": \"he will have\",\"he's\": \"he is\",\"how'd\": \"how did\",\"how'd'y\": \"how do you\",\"how'll\": \"how will\",\"how's\": \"how is\",\"I'd\": \"I would\",\n",
        "  \"I'd've\": \"I would have\",\"I'll\": \"I will\",\"I'll've\": \"I will have\",\"I'm\": \"I am\",\"I've\": \"I have\",\"isn't\": \"is not\",\"it'd\": \"it had\",\n",
        "  \"it'd've\": \"it would have\",\"it'll\": \"it will\",\"it'll've\": \"it will have\",\"it's\": \"it is\",\"let's\": \"let us\",\"ma'am\": \"madam\",\n",
        "  \"mayn't\": \"may not\",\"might've\": \"might have\",\"mightn't\": \"might not\",\"mightn't've\": \"might not have\",\"must've\": \"must have\",\"mustn't\": \"must not\",\"mustn't've\": \"must not have\",\"needn't\": \"need not\",\n",
        "  \"needn't've\": \"need not have\",\"o'clock\": \"of the clock\",\"oughtn't\": \"ought not\",\"oughtn't've\": \"ought not have\",\"shan't\": \"shall not\",\"sha'n't\": \"shall not\",\n",
        "  \"shan't've\": \"shall not have\",\"she'd\": \"she would\",\"she'd've\": \"she would have\",\"she'll\": \"she will\",\"she'll've\": \"she will have\",\"she's\": \"she is\",\"should've\": \"should have\",\n",
        "  \"shouldn't\": \"should not\",\"shouldn't've\": \"should not have\",\"so've\": \"so have\",\"so's\": \"so is\",\n",
        "  \"that'd\": \"that would\",\"that'd've\": \"that would have\",\"that's\": \"that is\",\"there'd\": \"there had\",\"there'd've\": \"there would have\",\"there's\": \"there is\",\"they'd\": \"they would\",\"they'd've\": \"they would have\",\n",
        "  \"they'll\": \"they will\",\"they'll've\": \"they will have\",\"they're\": \"they are\",\"they've\": \"they have\",\"to've\": \"to have\",\n",
        "  \"wasn't\": \"was not\",\"we'd\": \"we had\",\"we'd've\": \"we would have\",\"we'll\": \"we will\",\"we'll've\": \"we will have\",\"we're\": \"we are\",\"we've\": \"we have\",\n",
        "  \"weren't\": \"were not\",\"what'll\": \"what will\",\"what'll've\": \"what will have\",\"what're\": \"what are\",\n",
        "  \"what's\": \"what is\",\"what've\": \"what have\",\"when's\": \"when is\",\"when've\": \"when have\",\"where'd\": \"where did\",\"where's\": \"where is\",\"where've\": \"where have\",\"who'll\": \"who will\",\n",
        "  \"who'll've\": \"who will have\",\"who's\": \"who is\",\"who've\": \"who have\",\"why's\": \"why is\",\"why've\": \"why have\",\n",
        "  \"will've\": \"will have\",\"won't\": \"will not\",\"won't've\": \"will not have\",\"would've\": \"would have\",\n",
        "  \"wouldn't\": \"would not\",\"wouldn't've\": \"would not have\",\"y'all\": \"you all\",\"y'alls\": \"you alls\",\"y'all'd\": \"you all would\",\"y'all'd've\": \"you all would have\",\"y'all're\": \"you all are\",\"y'all've\": \"you all have\",\n",
        "  \"you'd\": \"you had\",\"you'd've\": \"you would have\",\"you'll\": \"you you will\",\"you'll've\": \"you you will have\",\"you're\": \"you are\",\"you've\": \"you have\"\n",
        "  }"
      ],
      "execution_count": 0,
      "outputs": []
    },
    {
      "cell_type": "code",
      "metadata": {
        "id": "bqb3i1bQYi53",
        "colab_type": "code",
        "colab": {}
      },
      "source": [
        "def _get_contractions(contraction_dict):\n",
        "    contraction_re = re.compile('(%s)' % '|'.join(contraction_dict.keys()))\n",
        "    return contraction_dict, contraction_re\n",
        "\n",
        "contractions, contractions_re = _get_contractions(contraction_dict)\n",
        "\n",
        "def replace_contractions(text):\n",
        "    def replace(match):\n",
        "        return contractions[match.group(0)]\n",
        "    return contractions_re.sub(replace, text)\n",
        "\n",
        "lines = [replace_contractions(line) for line in lines]"
      ],
      "execution_count": 0,
      "outputs": []
    },
    {
      "cell_type": "markdown",
      "metadata": {
        "id": "XXDJvwR4c4rj",
        "colab_type": "text"
      },
      "source": [
        "##  2. **whitelist_lines** function tries to remove :\n",
        "1.   Removed **HTML Tags**\n",
        "2.   Remove **-** and replace with ' ' (**space**)\n",
        "3.   **Allowed Chacters** **->** a-z A-Z ! space ,? .\n",
        "4.   **Repeating Punctuations** (?.!)[*Ex - Hi !!! to Hi !*]\n",
        "5.   **Repeating Characters in the word** [*Ex - wayyy to way*]\n",
        "6.   **Repeating Characters in between the words**\n",
        "7.   **Period (.) before word and after word** [*Ex - .lion to lion*]\n",
        "8.   **Double space,newline,tab to single space**"
      ]
    },
    {
      "cell_type": "code",
      "metadata": {
        "id": "-LsBLG4FZPhM",
        "colab_type": "code",
        "colab": {}
      },
      "source": [
        "def whitelist_lines(line):\n",
        "  line = re.sub('(<.*?>)','',line)\n",
        "  line = re.sub(r'-+',r' ',line)\n",
        "  line = re.sub(r'[^(a-zA-Z!\\s,?\\.)]*',r'',line)\n",
        "  line = re.sub(r'([!?.,]){1,}\\1',r'\\1',line)\n",
        "  line = re.sub(r'\\b(\\S*?)(.)\\2{2,}\\b',r'\\1\\2',line)\n",
        "  line = re.sub(r'\\b(\\S*?)(.)\\2{2,}(\\S+)\\b',r'\\1\\2\\2\\3',line)\n",
        "  line = re.sub(r'([.])',r' . ',line)\n",
        "  line = re.sub(r'\\s+',r' ',line)\n",
        "  return line.strip()"
      ],
      "execution_count": 0,
      "outputs": []
    },
    {
      "cell_type": "code",
      "metadata": {
        "id": "PPPOVoKtZgw3",
        "colab_type": "code",
        "colab": {}
      },
      "source": [
        "lines = [whitelist_lines(line) for line in lines]"
      ],
      "execution_count": 0,
      "outputs": []
    },
    {
      "cell_type": "code",
      "metadata": {
        "id": "Z_bL0U3Hbu-6",
        "colab_type": "code",
        "outputId": "4e375a12-ecca-4e6c-c218-78a9941b0932",
        "colab": {
          "base_uri": "https://localhost:8080/",
          "height": 191
        }
      },
      "source": [
        "lines[:10]"
      ],
      "execution_count": 0,
      "outputs": [
        {
          "output_type": "execute_result",
          "data": {
            "text/plain": [
              "['They do not!',\n",
              " 'They do to!',\n",
              " 'I hope so .',\n",
              " 'She okay?',\n",
              " 'Lets go .',\n",
              " 'Wow',\n",
              " 'Okay you are gonna need to learn how to lie .',\n",
              " 'No',\n",
              " 'I am kidding . You know how sometimes you just become this persona? And you do not know how to quit?',\n",
              " 'Like my fear of wearing pastels?']"
            ]
          },
          "metadata": {
            "tags": []
          },
          "execution_count": 83
        }
      ]
    },
    {
      "cell_type": "markdown",
      "metadata": {
        "id": "9ICMWrZmaZN9",
        "colab_type": "text"
      },
      "source": [
        "## 3. Spelling Correction Library\n",
        "\n",
        "These libraries are used to correct the Incorrect spellings in the text file.It supports multiple languages.\n",
        "\n",
        "*   **TextBlob** - TextBlob.correct() function\n",
        "*   **Spellchecker** - spellcheck.correction() function\n",
        "\n"
      ]
    },
    {
      "cell_type": "markdown",
      "metadata": {
        "id": "tS7bmD7xdFw6",
        "colab_type": "text"
      },
      "source": [
        "**spelling_correction_textBlob** functions tries to correct the mis-spelled word in the lines."
      ]
    },
    {
      "cell_type": "code",
      "metadata": {
        "id": "j3b7f8zmcicb",
        "colab_type": "code",
        "colab": {}
      },
      "source": [
        "def spelling_correction_textBlob(text):\n",
        "  text = TextBlob(text).correct()\n",
        "  return str(text)"
      ],
      "execution_count": 0,
      "outputs": []
    },
    {
      "cell_type": "markdown",
      "metadata": {
        "id": "RkYBfTGm3swb",
        "colab_type": "text"
      },
      "source": [
        "* We are adding **start** and **end** to every target text.This will later help our **MODEL** to determine **when to start** and more importantly - **end sequences** . We need this due to the fact that we dont know a-priori how long the output sequence will be."
      ]
    },
    {
      "cell_type": "code",
      "metadata": {
        "id": "0FsdjO_jdcD_",
        "colab_type": "code",
        "colab": {}
      },
      "source": [
        "for line in lines:\n",
        "    next_words = [w.lower() for w in nltk.word_tokenize(line)]\n",
        "    if len(next_words) > MAX_TARGET_SEQ_LENGTH:\n",
        "        next_words = next_words[0:MAX_TARGET_SEQ_LENGTH]\n",
        "    if len(prev_words) > 0:\n",
        "        input_texts.append(prev_words)\n",
        "        target_words = next_words[:]\n",
        "        target_words.insert(0, 'start')\n",
        "        target_words.append('end')\n",
        "        for w in target_words:\n",
        "            target_counter[w] += 1\n",
        "        target_texts.append(target_words)\n",
        "    prev_words = next_words"
      ],
      "execution_count": 0,
      "outputs": []
    },
    {
      "cell_type": "code",
      "metadata": {
        "id": "FsBdOIAbTLly",
        "colab_type": "code",
        "outputId": "94c21c7a-3ee0-4ac1-9285-95505a7c8dd8",
        "colab": {
          "base_uri": "https://localhost:8080/",
          "height": 52
        }
      },
      "source": [
        "print('Length of Input texts :',len(input_texts))\n",
        "print('Length of Target texts :',len(target_texts))"
      ],
      "execution_count": 0,
      "outputs": [
        {
          "output_type": "stream",
          "text": [
            "Length of Input texts : 304443\n",
            "Length of Target texts : 304443\n"
          ],
          "name": "stdout"
        }
      ]
    },
    {
      "cell_type": "markdown",
      "metadata": {
        "id": "LcYFBgUIdcEF",
        "colab_type": "text"
      },
      "source": [
        "Filter the conversations till max word length and convert the dialogues pairs into input text and target texts. Put **start** and **end** token to recognise the beginning and end of the sentence token.\n",
        "\n",
        "## Let's see some of the training examples"
      ]
    },
    {
      "cell_type": "code",
      "metadata": {
        "id": "FiCxfQtBdcEG",
        "colab_type": "code",
        "outputId": "3db85ec5-f4cb-4913-9351-1ed1334e0497",
        "colab": {
          "base_uri": "https://localhost:8080/",
          "height": 228
        }
      },
      "source": [
        "for idx, (input_words, target_words) in enumerate(zip(input_texts, target_texts)):\n",
        "    if idx > 10:\n",
        "        break\n",
        "    print([input_words, target_words])"
      ],
      "execution_count": 0,
      "outputs": [
        {
          "output_type": "stream",
          "text": [
            "[['they', 'do', 'not', '!'], ['start', 'they', 'do', 'to', '!', 'end']]\n",
            "[['they', 'do', 'to', '!'], ['start', 'i', 'hope', 'so', '.', 'end']]\n",
            "[['i', 'hope', 'so', '.'], ['start', 'she', 'okay', '?', 'end']]\n",
            "[['she', 'okay', '?'], ['start', 'lets', 'go', '.', 'end']]\n",
            "[['lets', 'go', '.'], ['start', 'wow', 'end']]\n",
            "[['wow'], ['start', 'okay', 'you', 'are', 'gon', 'na', 'need', 'to', 'learn', 'how', 'to', 'lie', '.', 'end']]\n",
            "[['okay', 'you', 'are', 'gon', 'na', 'need', 'to', 'learn', 'how', 'to', 'lie', '.'], ['start', 'no', 'end']]\n",
            "[['no'], ['start', 'i', 'am', 'kidding', '.', 'you', 'know', 'how', 'sometimes', 'you', 'just', 'become', 'this', 'persona', '?', 'and', 'you', 'do', 'not', 'know', 'how', 'to', 'quit', '?', 'end']]\n",
            "[['i', 'am', 'kidding', '.', 'you', 'know', 'how', 'sometimes', 'you', 'just', 'become', 'this', 'persona', '?', 'and', 'you', 'do', 'not', 'know', 'how', 'to', 'quit', '?'], ['start', 'like', 'my', 'fear', 'of', 'wearing', 'pastels', '?', 'end']]\n",
            "[['like', 'my', 'fear', 'of', 'wearing', 'pastels', '?'], ['start', 'the', 'real', 'you', '.', 'end']]\n",
            "[['the', 'real', 'you', '.'], ['start', 'what', 'good', 'stuff', '?', 'end']]\n"
          ],
          "name": "stdout"
        }
      ]
    },
    {
      "cell_type": "markdown",
      "metadata": {
        "id": "ksKxizS6dcEL",
        "colab_type": "text"
      },
      "source": [
        "### Create two dictionaries \n",
        "<ol>\n",
        "<li>target_word2id\n",
        "<li>target_id2word\n",
        "</ol>\n",
        "and save it as NumPy file format in the disk.\n",
        "<p>\n",
        "<strong>NOTE:</strong> The ids should start from 1 beacause <strong>0</strong> is reserved for <strong>'unknown'</strong> tokens.\n",
        "Make sure you cosider only the <strong>most common</strong> tokens with <strong>MAX_VOCAB_SIZE</strong> defined above.\n",
        "\n",
        "Most common refers to tokens with higher frequency. \n",
        "</p>\n",
        "<strong>Help:</strong>\n",
        "<ol>\n",
        "<li>Use the target_counter which have the token counts.  \n",
        "<li>Use target_counter.most_common(MAX_VOCAB_SIZE) to filter common tokens\n",
        "    </ol>"
      ]
    },
    {
      "cell_type": "code",
      "metadata": {
        "id": "Qc6oco8qdcEN",
        "colab_type": "code",
        "colab": {}
      },
      "source": [
        "target_word2idx = dict()\n",
        "'''create a target word to id dictionary called target_word2idx.\n",
        "2 to 3 lines '''\n",
        "for idx, word in enumerate(target_counter.most_common(MAX_VOCAB_SIZE)):\n",
        "    target_word2idx[word[0]] = idx + 1\n",
        "\n",
        "if 'unk' not in target_word2idx:\n",
        "    target_word2idx['unk'] = 0\n",
        "\n",
        "'''create a target to id dictionary called target_idx2word . Approx ~1 line'''\n",
        "\n",
        "target_idx2word = dict([(idx, word) for word, idx in target_word2idx.items()])\n",
        "\n",
        "num_decoder_tokens = len(target_idx2word)\n",
        "\n",
        "np.save( DATA_SET_NAME + '/word-glove-target-word2idx.npy', target_word2idx)\n",
        "np.save( DATA_SET_NAME + '/word-glove-target-idx2word.npy', target_idx2word)"
      ],
      "execution_count": 0,
      "outputs": []
    },
    {
      "cell_type": "markdown",
      "metadata": {
        "id": "6PzuUg4zdcER",
        "colab_type": "text"
      },
      "source": [
        "# Check-2"
      ]
    },
    {
      "cell_type": "code",
      "metadata": {
        "id": "R7pikaJfdcEU",
        "colab_type": "code",
        "outputId": "f72bb7ff-13b3-40e0-88c2-9aa92dd8227e",
        "colab": {
          "base_uri": "https://localhost:8080/",
          "height": 35
        }
      },
      "source": [
        "assert len (target_word2idx.keys())==len (target_idx2word.keys())==MAX_VOCAB_SIZE+1\n",
        "\n",
        "print('Test Case 2 Passes!')"
      ],
      "execution_count": 0,
      "outputs": [
        {
          "output_type": "stream",
          "text": [
            "Test Case 2 Passes!\n"
          ],
          "name": "stdout"
        }
      ]
    },
    {
      "cell_type": "markdown",
      "metadata": {
        "id": "BmPig3QAKdSF",
        "colab_type": "text"
      },
      "source": [
        "### Loading word-glove-target-word2idx.npy and word-glove-target-idx2word.npy <font color='DARKBLUE'>**[ PRE-TRAINED ]**</font> "
      ]
    },
    {
      "cell_type": "code",
      "metadata": {
        "id": "USlGGP7jKKCy",
        "colab_type": "code",
        "colab": {}
      },
      "source": [
        "target_word2idx = np.load(DATA_SET_NAME + '/word-glove-target-word2idx.npy',allow_pickle=True).item()\n",
        "target_idx2word = np.load( DATA_SET_NAME + '/word-glove-target-idx2word.npy',allow_pickle=True).item()"
      ],
      "execution_count": 0,
      "outputs": []
    },
    {
      "cell_type": "markdown",
      "metadata": {
        "id": "2mw-Ly2xdcEc",
        "colab_type": "text"
      },
      "source": [
        "# Prepare the input data with embedding\n",
        "The input data is a list of lists \n",
        "<ol>\n",
        "<li> First list is a list of sentences\n",
        "<li> Each sentence is a list of words\n",
        " </ol>"
      ]
    },
    {
      "cell_type": "code",
      "metadata": {
        "id": "oBmG1ea4dcEc",
        "colab_type": "code",
        "outputId": "ce9e2b8a-7bef-40d3-fa73-b958d7bac3d2",
        "colab": {
          "base_uri": "https://localhost:8080/",
          "height": 69
        }
      },
      "source": [
        "%%time\n",
        "input_texts_word2em = []\n",
        "encoder_max_seq_length = 0\n",
        "decoder_max_seq_length = 0\n",
        "corrected_noembwords = []\n",
        "noembwords = []\n",
        "unableToEmbed_spellchecker = []\n",
        "\n",
        "for input_words, target_words in zip(input_texts, target_texts):\n",
        "    encoder_input_wids = []\n",
        "    for w in input_words:\n",
        "        embeddings=np.zeros(shape=GLOVE_EMBEDDING_SIZE)\n",
        "        if w in word2embedding:\n",
        "          embeddings = word2embedding[w]\n",
        "          encoder_input_wids.append(embeddings)\n",
        "        else:\n",
        "          noembwords.append(w)\n",
        "          w1 = spelling_correction_textBlob(w)\n",
        "          if w1 in word2embedding:\n",
        "            embeddings = word2embedding[w1]\n",
        "            encoder_input_wids.append(embeddings)\n",
        "          else:\n",
        "            corrected_noembwords.append(w)\n",
        "            w2 = spell.correction(w)\n",
        "            if w2 in word2embedding:\n",
        "              embeddings = word2embedding[w2]\n",
        "              encoder_input_wids.append(embeddings)\n",
        "            else:\n",
        "              unableToEmbed_spellchecker.append(w)\n",
        "              encoder_input_wids.append(embeddings)\n",
        "\n",
        "    input_texts_word2em.append(encoder_input_wids)\n",
        "    encoder_max_seq_length = max(len(encoder_input_wids), encoder_max_seq_length)\n",
        "    decoder_max_seq_length = max(len(target_words), decoder_max_seq_length)\n",
        "\n",
        "context = dict()\n",
        "context['num_decoder_tokens'] = num_decoder_tokens\n",
        "context['encoder_max_seq_length'] = encoder_max_seq_length\n",
        "context['decoder_max_seq_length'] = decoder_max_seq_length\n",
        "\n",
        "print('Context : ',context)\n",
        "np.save( DATA_SET_NAME + '/word-glove-context.npy', context)"
      ],
      "execution_count": 0,
      "outputs": [
        {
          "output_type": "stream",
          "text": [
            "Context :  {'num_decoder_tokens': 10001, 'encoder_max_seq_length': 40, 'decoder_max_seq_length': 42}\n",
            "CPU times: user 1h 51min 15s, sys: 11.2 s, total: 1h 51min 26s\n",
            "Wall time: 1h 51min 29s\n"
          ],
          "name": "stdout"
        }
      ]
    },
    {
      "cell_type": "markdown",
      "metadata": {
        "id": "S8IJeZVkdcEg",
        "colab_type": "text"
      },
      "source": [
        "# Check-3"
      ]
    },
    {
      "cell_type": "code",
      "metadata": {
        "id": "QXaPOQlddcEh",
        "colab_type": "code",
        "outputId": "0a6b55e4-d7dc-4e19-ea48-3faa0c523669",
        "colab": {
          "base_uri": "https://localhost:8080/",
          "height": 35
        }
      },
      "source": [
        "for input_text,input_text_embed in zip (input_texts,range(len(input_texts_word2em))):\n",
        "    assert (len(input_text)==len(input_texts_word2em[input_text_embed]))\n",
        "print('Test Case 3 Passes!')"
      ],
      "execution_count": 0,
      "outputs": [
        {
          "output_type": "stream",
          "text": [
            "Test Case 3 Passes!\n"
          ],
          "name": "stdout"
        }
      ]
    },
    {
      "cell_type": "markdown",
      "metadata": {
        "id": "9z_0ooizJsqV",
        "colab_type": "text"
      },
      "source": [
        "### Loading Glove context file (**word-glove-context.npy**) <font color='DARKBLUE'>**[ PRE-TRAINED ]**</font>"
      ]
    },
    {
      "cell_type": "code",
      "metadata": {
        "id": "U0TMEzddJS4t",
        "colab_type": "code",
        "colab": {}
      },
      "source": [
        "context = np.load(DATA_SET_NAME + '/word-glove-context.npy',allow_pickle=True).item()"
      ],
      "execution_count": 0,
      "outputs": []
    },
    {
      "cell_type": "code",
      "metadata": {
        "id": "FOuXgdXwJW9C",
        "colab_type": "code",
        "colab": {}
      },
      "source": [
        "encoder_max_seq_length = context['encoder_max_seq_length']\n",
        "decoder_max_seq_length = context['decoder_max_seq_length']\n",
        "num_decoder_tokens = context['num_decoder_tokens']"
      ],
      "execution_count": 0,
      "outputs": []
    },
    {
      "cell_type": "markdown",
      "metadata": {
        "id": "GXh-5WEUdcEn",
        "colab_type": "text"
      },
      "source": [
        "# Generate Training data per batch"
      ]
    },
    {
      "cell_type": "markdown",
      "metadata": {
        "id": "Gvg8LBt-dcEo",
        "colab_type": "text"
      },
      "source": [
        "generate_batch takes input embedding data (input_word2em_data) and target text data (target_texts) and returns trainable X and Y.\n",
        "X is a list of [X1,X2]\n",
        "where \n",
        "X1 is encoder_input_data_batch( which is created by putting the word embedding(glove vector) of the input tokens) padded in to a shape of (BATCH_SIZE, encoder_max_seq_length, GLOVE_EMBEDDING_SIZE)\n",
        "\n",
        "X2 is decoder_input_data_batch which is created by putting the word embedding(glove vector) of the target_words tokens and padding it to a shape of (BATCH_SIZE, encoder_max_seq_length, GLOVE_EMBEDDING_SIZE)\n",
        "\n",
        "Y is decoder_target_data_batch which is in shape of (BATCH_SIZE, decoder_max_seq_length, num_decoder_tokens)\n",
        "which signifies for each target token text  in the batch we have an option of any token from the vocabularu to be the next predicted word "
      ]
    },
    {
      "cell_type": "code",
      "metadata": {
        "id": "37R_9qpHdcEp",
        "colab_type": "code",
        "colab": {}
      },
      "source": [
        "def generate_batch(input_word2em_data, output_text_data):\n",
        "    num_batches = len(input_word2em_data) // BATCH_SIZE\n",
        "    while True:\n",
        "        for batchIdx in range(0, num_batches):\n",
        "            start = batchIdx * BATCH_SIZE\n",
        "            end = (batchIdx + 1) * BATCH_SIZE\n",
        "            '''Fill your code here. 5 to 10 lines'''\n",
        "            encoder_input_data_batch = pad_sequences(input_word2em_data[start:end], encoder_max_seq_length)\n",
        "            decoder_target_data_batch = np.zeros(shape=(BATCH_SIZE, decoder_max_seq_length, num_decoder_tokens))\n",
        "            decoder_input_data_batch = np.zeros(shape=(BATCH_SIZE, decoder_max_seq_length, GLOVE_EMBEDDING_SIZE))\n",
        "            for lineIdx, target_words in enumerate(output_text_data[start:end]):\n",
        "                for idx, w in enumerate(target_words):\n",
        "                    w2idx = target_word2idx['unknown']  # default unknown\n",
        "                    if w in target_word2idx:\n",
        "                        w2idx = target_word2idx[w]\n",
        "                    if w in word2embedding:\n",
        "                        decoder_input_data_batch[lineIdx, idx, :] = word2embedding[w]\n",
        "                    if idx > 0:\n",
        "                        decoder_target_data_batch[lineIdx, idx - 1, w2idx] = 1\n",
        "            yield [encoder_input_data_batch, decoder_input_data_batch], decoder_target_data_batch"
      ],
      "execution_count": 0,
      "outputs": []
    },
    {
      "cell_type": "markdown",
      "metadata": {
        "id": "EGjnjiyidcEt",
        "colab_type": "text"
      },
      "source": [
        "# Check-4"
      ]
    },
    {
      "cell_type": "code",
      "metadata": {
        "id": "Ezag0feRdcEu",
        "colab_type": "code",
        "colab": {}
      },
      "source": [
        "Xtrain, Xtest, Ytrain, Ytest = train_test_split(input_texts_word2em, target_texts, test_size=0.2, random_state=42)\n",
        "train_gen = generate_batch(Xtrain, Ytrain)"
      ],
      "execution_count": 0,
      "outputs": []
    },
    {
      "cell_type": "code",
      "metadata": {
        "id": "uaHOOZBYVG7W",
        "colab_type": "code",
        "outputId": "0c179c8b-9447-4a49-d388-8767dcdc54a7",
        "colab": {
          "base_uri": "https://localhost:8080/",
          "height": 35
        }
      },
      "source": [
        "for i,j in train_gen:\n",
        "    assert i[0].shape==(BATCH_SIZE,context['encoder_max_seq_length'],GLOVE_EMBEDDING_SIZE)\n",
        "    assert i[1].shape==(BATCH_SIZE,context['decoder_max_seq_length'],GLOVE_EMBEDDING_SIZE)\n",
        "    assert j.shape==    (BATCH_SIZE,context['decoder_max_seq_length'],context['num_decoder_tokens'])\n",
        "\n",
        "print ('Test Case 4 Passes!')"
      ],
      "execution_count": 0,
      "outputs": [
        {
          "output_type": "stream",
          "text": [
            "Test Case 4 Passes!\n"
          ],
          "name": "stdout"
        }
      ]
    },
    {
      "cell_type": "markdown",
      "metadata": {
        "id": "jazC-goddcEx",
        "colab_type": "text"
      },
      "source": [
        "# Model Architecture "
      ]
    },
    {
      "cell_type": "markdown",
      "metadata": {
        "id": "P8VfVTm4dcE6",
        "colab_type": "text"
      },
      "source": [
        "# Test-5"
      ]
    },
    {
      "cell_type": "markdown",
      "metadata": {
        "id": "oUJbRP9SdcE8",
        "colab_type": "text"
      },
      "source": [
        "<ol>\n",
        "<li> Step 1: Use a LSTM encoder to get input words encoded in the form of (encoder outputs, encoder hidden state, encoder context) from input words\n",
        "<li> Step 2:  Use a LSTM decoder to get target words encoded in the form of (decoder outputs, decoder hidden state, decoder context) from target words. Use encoder hidden states and encoder context (represents input memory) as initial state .\n",
        "<li> Step 3: Use a dense layer to predict the next token out of the vocabulary given decoder output generated by Step 2.\n",
        "<li> Step 4: Use loss ='categorical_crossentropy' and optimizer='rmsprop'\n",
        "</ol>"
      ]
    },
    {
      "cell_type": "code",
      "metadata": {
        "id": "gU974rtIdcE9",
        "colab_type": "code",
        "colab": {}
      },
      "source": [
        "'''write your code here.create a model object'''\n",
        "#Encoder layers,inputs,outputs\n",
        "encoder_inputs = Input(shape=(None, GLOVE_EMBEDDING_SIZE))\n",
        "encoder_lstm = LSTM(units=HIDDEN_UNITS, return_state=True)\n",
        "encoder_outputs, encoder_state_h, encoder_state_c = encoder_lstm(encoder_inputs)\n",
        "encoder_states = [encoder_state_h, encoder_state_c]\n",
        "\n",
        "#Decoder layers - input,output,LSTM,Dense\n",
        "decoder_inputs = Input(shape=(None, GLOVE_EMBEDDING_SIZE))\n",
        "decoder_lstm = LSTM(units=HIDDEN_UNITS, return_state=True, return_sequences=True)\n",
        "decoder_outputs, decoder_state_h, decoder_state_c = decoder_lstm(decoder_inputs,\n",
        "                                                                 initial_state=encoder_states)\n",
        "decoder_dense = Dense(units=num_decoder_tokens, activation='softmax', name='decoder_dense')\n",
        "decoder_outputs = decoder_dense(decoder_outputs)\n",
        "#model \n",
        "model = Model([encoder_inputs, decoder_inputs], decoder_outputs)\n",
        "model.compile(loss='categorical_crossentropy', optimizer='rmsprop',metrics=['accuracy'])"
      ],
      "execution_count": 0,
      "outputs": []
    },
    {
      "cell_type": "markdown",
      "metadata": {
        "id": "qP42ONplPVwU",
        "colab_type": "text"
      },
      "source": [
        "### **Printing Model . . .** "
      ]
    },
    {
      "cell_type": "code",
      "metadata": {
        "id": "lab5ddRGdcEy",
        "colab_type": "code",
        "outputId": "ffa4d5f2-01f2-4653-9182-71339a907118",
        "colab": {
          "base_uri": "https://localhost:8080/",
          "height": 417
        }
      },
      "source": [
        "from keras.utils import plot_model\n",
        "plot_model(model, to_file='model.png')\n",
        "from IPython.display import Image\n",
        "Image(filename='model.png',height=400,width=400)"
      ],
      "execution_count": 56,
      "outputs": [
        {
          "output_type": "execute_result",
          "data": {
            "image/png": "[encoded data removed]",
            "text/plain": [
              "<IPython.core.display.Image object>"
            ]
          },
          "metadata": {
            "tags": [],
            "image/png": {
              "width": 400,
              "height": 400
            }
          },
          "execution_count": 56
        }
      ]
    },
    {
      "cell_type": "markdown",
      "metadata": {
        "id": "FKnqwC4ndcE4",
        "colab_type": "text"
      },
      "source": [
        "# The Model architecture is explined in the diagram above "
      ]
    },
    {
      "cell_type": "markdown",
      "metadata": {
        "id": "qwLMhgA7gKib",
        "colab_type": "text"
      },
      "source": [
        "#### **Saving Model Architecture**"
      ]
    },
    {
      "cell_type": "code",
      "metadata": {
        "id": "3e10goCxfzgs",
        "colab_type": "code",
        "colab": {}
      },
      "source": [
        "import json\n",
        "# serialize model to JSON\n",
        "model_json = model.to_json()\n",
        "with open(DATA_SET_NAME+'/Industry Grade Project - Building a Chatbot/word-architecture.json', \"w\") as json_file:\n",
        "    json_file.write(model_json)"
      ],
      "execution_count": 0,
      "outputs": []
    },
    {
      "cell_type": "markdown",
      "metadata": {
        "id": "pnNAPfQFdcFG",
        "colab_type": "text"
      },
      "source": [
        "# Check-5 "
      ]
    },
    {
      "cell_type": "markdown",
      "metadata": {
        "id": "ecKi6g5MdcFI",
        "colab_type": "text"
      },
      "source": [
        "Check the model summary should look like this "
      ]
    },
    {
      "cell_type": "code",
      "metadata": {
        "id": "x2-ZeC66dcFJ",
        "colab_type": "code",
        "outputId": "958cf767-40e2-4e9f-8280-720a740683c6",
        "colab": {
          "base_uri": "https://localhost:8080/",
          "height": 364
        }
      },
      "source": [
        "model.summary()"
      ],
      "execution_count": 58,
      "outputs": [
        {
          "output_type": "stream",
          "text": [
            "Model: \"model_6\"\n",
            "__________________________________________________________________________________________________\n",
            "Layer (type)                    Output Shape         Param #     Connected to                     \n",
            "==================================================================================================\n",
            "input_7 (InputLayer)            (None, None, 100)    0                                            \n",
            "__________________________________________________________________________________________________\n",
            "input_8 (InputLayer)            (None, None, 100)    0                                            \n",
            "__________________________________________________________________________________________________\n",
            "lstm_3 (LSTM)                   [(None, 256), (None, 365568      input_7[0][0]                    \n",
            "__________________________________________________________________________________________________\n",
            "lstm_4 (LSTM)                   [(None, None, 256),  365568      input_8[0][0]                    \n",
            "                                                                 lstm_3[0][1]                     \n",
            "                                                                 lstm_3[0][2]                     \n",
            "__________________________________________________________________________________________________\n",
            "decoder_dense (Dense)           (None, None, 10001)  2570257     lstm_4[0][0]                     \n",
            "==================================================================================================\n",
            "Total params: 3,301,393\n",
            "Trainable params: 3,301,393\n",
            "Non-trainable params: 0\n",
            "__________________________________________________________________________________________________\n"
          ],
          "name": "stdout"
        }
      ]
    },
    {
      "cell_type": "code",
      "metadata": {
        "id": "mSLpL4Onippb",
        "colab_type": "code",
        "outputId": "a1083478-8be4-4fd9-b292-7da1879cc159",
        "colab": {
          "base_uri": "https://localhost:8080/",
          "height": 87
        }
      },
      "source": [
        "# Just Checking the size of the Training and testing set.\n",
        "print('Length Xtrain :',len(Xtrain))\n",
        "print('Length Xtest :',len(Xtest))\n",
        "print('Length Ytrain :',len(Ytrain))\n",
        "print('Length Ytest :',len(Ytest))"
      ],
      "execution_count": 0,
      "outputs": [
        {
          "output_type": "stream",
          "text": [
            "Length Xtrain : 243554\n",
            "Length Xtest : 60889\n",
            "Length Ytrain : 243554\n",
            "Length Ytest : 60889\n"
          ],
          "name": "stdout"
        }
      ]
    },
    {
      "cell_type": "markdown",
      "metadata": {
        "id": "3zHzB2n41wIe",
        "colab_type": "text"
      },
      "source": [
        "### Execution and updation of weights in Batches"
      ]
    },
    {
      "cell_type": "code",
      "metadata": {
        "id": "bcXaT0TWiHyc",
        "colab_type": "code",
        "colab": {}
      },
      "source": [
        "test_gen = generate_batch(Xtest, Ytest)"
      ],
      "execution_count": 0,
      "outputs": []
    },
    {
      "cell_type": "code",
      "metadata": {
        "id": "XZD1RzeKge2B",
        "colab_type": "code",
        "colab": {}
      },
      "source": [
        "train_num_batches = len(Xtrain) // BATCH_SIZE\n",
        "test_num_batches = len(Xtest) // BATCH_SIZE"
      ],
      "execution_count": 0,
      "outputs": []
    },
    {
      "cell_type": "markdown",
      "metadata": {
        "id": "ESrBUMU22GrP",
        "colab_type": "text"
      },
      "source": [
        "### Saving of MODEL at checks through checkpoint"
      ]
    },
    {
      "cell_type": "code",
      "metadata": {
        "id": "PCKmTkBkgi_h",
        "colab_type": "code",
        "colab": {}
      },
      "source": [
        "checkpoint = ModelCheckpoint(filepath=WEIGHT_FILE_PATH, save_best_only=True)"
      ],
      "execution_count": 0,
      "outputs": []
    },
    {
      "cell_type": "markdown",
      "metadata": {
        "id": "ZnfXTdoalrV0",
        "colab_type": "text"
      },
      "source": [
        "# **MODEL TRAINING**"
      ]
    },
    {
      "cell_type": "code",
      "metadata": {
        "id": "xkcYGWamgjLy",
        "colab_type": "code",
        "outputId": "dd15facc-53f7-4e18-bb29-4786f84d9a10",
        "colab": {
          "base_uri": "https://localhost:8080/",
          "height": 384
        }
      },
      "source": [
        "#fitting of chatbot model\n",
        "history = model.fit_generator(generator=train_gen, steps_per_epoch=train_num_batches,\n",
        "                    epochs=NUM_EPOCHS,\n",
        "                    verbose=1, validation_data=test_gen, validation_steps=test_num_batches, callbacks=[checkpoint])"
      ],
      "execution_count": 0,
      "outputs": [
        {
          "output_type": "stream",
          "text": [
            "Epoch 1/10\n",
            "7611/7611 [==============================] - 1744s 229ms/step - loss: 1.4090 - accuracy: 0.0840 - val_loss: 1.2544 - val_accuracy: 0.0907\n",
            "Epoch 2/10\n",
            "7611/7611 [==============================] - 1736s 228ms/step - loss: 1.3517 - accuracy: 0.0917 - val_loss: 1.2474 - val_accuracy: 0.0927\n",
            "Epoch 3/10\n",
            "7611/7611 [==============================] - 1725s 227ms/step - loss: 1.3618 - accuracy: 0.0928 - val_loss: 1.2573 - val_accuracy: 0.0929\n",
            "Epoch 4/10\n",
            "7611/7611 [==============================] - 1702s 224ms/step - loss: 1.3671 - accuracy: 0.0926 - val_loss: 1.2520 - val_accuracy: 0.0926\n",
            "Epoch 5/10\n",
            "7611/7611 [==============================] - 1701s 224ms/step - loss: 1.3810 - accuracy: 0.0923 - val_loss: 1.2676 - val_accuracy: 0.0926\n",
            "Epoch 6/10\n",
            "7611/7611 [==============================] - 1716s 225ms/step - loss: 1.3878 - accuracy: 0.0921 - val_loss: 1.2567 - val_accuracy: 0.0927\n",
            "Epoch 7/10\n",
            "7611/7611 [==============================] - 1723s 226ms/step - loss: 1.3817 - accuracy: 0.0928 - val_loss: 1.2613 - val_accuracy: 0.0932\n",
            "Epoch 8/10\n",
            "7611/7611 [==============================] - 1720s 226ms/step - loss: 1.3891 - accuracy: 0.0932 - val_loss: 1.2789 - val_accuracy: 0.0932\n",
            "Epoch 9/10\n",
            "7611/7611 [==============================] - 1723s 226ms/step - loss: 1.4012 - accuracy: 0.0930 - val_loss: 1.2801 - val_accuracy: 0.0929\n",
            "Epoch 10/10\n",
            "7611/7611 [==============================] - 1722s 226ms/step - loss: 1.4044 - accuracy: 0.0929 - val_loss: 1.2803 - val_accuracy: 0.0924\n"
          ],
          "name": "stdout"
        }
      ]
    },
    {
      "cell_type": "markdown",
      "metadata": {
        "id": "8cy-jnrO2Uxw",
        "colab_type": "text"
      },
      "source": [
        "### Final Weights saved at desired location"
      ]
    },
    {
      "cell_type": "code",
      "metadata": {
        "id": "-hITpDhPHUzB",
        "colab_type": "code",
        "colab": {}
      },
      "source": [
        "model.save_weights(WEIGHT_FILE_PATH)"
      ],
      "execution_count": 0,
      "outputs": []
    },
    {
      "cell_type": "markdown",
      "metadata": {
        "id": "_ERjt0GSi1gj",
        "colab_type": "text"
      },
      "source": [
        "**PLOT IT !**"
      ]
    },
    {
      "cell_type": "markdown",
      "metadata": {
        "id": "i7Laiqyvc_ZM",
        "colab_type": "text"
      },
      "source": [
        "* **Model Accuracy after 10 Epochs**"
      ]
    },
    {
      "cell_type": "code",
      "metadata": {
        "id": "2ez2z5Kpgwp4",
        "colab_type": "code",
        "outputId": "04151ef6-0bd5-4703-8bc3-a4b1ff77a300",
        "colab": {
          "base_uri": "https://localhost:8080/",
          "height": 404
        }
      },
      "source": [
        "import matplotlib.pyplot as plt\n",
        "%matplotlib inline\n",
        "\n",
        "plt.figure(figsize=(10, 6))\n",
        "plt.plot(history.history['accuracy'])\n",
        "plt.title('model accuracy')\n",
        "plt.ylabel('accuracy')\n",
        "plt.xlabel('epoch')\n",
        "plt.show()"
      ],
      "execution_count": 0,
      "outputs": [
        {
          "output_type": "display_data",
          "data": {
            "image/png": "[encoded data removed]",
            "text/plain": [
              "<Figure size 720x432 with 1 Axes>"
            ]
          },
          "metadata": {
            "tags": [],
            "needs_background": "light"
          }
        }
      ]
    },
    {
      "cell_type": "markdown",
      "metadata": {
        "id": "gbvgy2hUdTQ7",
        "colab_type": "text"
      },
      "source": [
        "* **Model Loss after 10 Epochs**"
      ]
    },
    {
      "cell_type": "code",
      "metadata": {
        "id": "1xUV7dkLgwmg",
        "colab_type": "code",
        "outputId": "03660084-91a9-45d3-9119-b0ffbb508fac",
        "colab": {
          "base_uri": "https://localhost:8080/",
          "height": 404
        }
      },
      "source": [
        "plt.figure(figsize=(10, 6))\n",
        "plt.plot(history.history['loss'])\n",
        "plt.title('model loss')\n",
        "plt.ylabel('loss')\n",
        "plt.xlabel('epoch')\n",
        "plt.show()"
      ],
      "execution_count": 0,
      "outputs": [
        {
          "output_type": "display_data",
          "data": {
            "image/png": "[encoded data removed]",
            "text/plain": [
              "<Figure size 720x432 with 1 Axes>"
            ]
          },
          "metadata": {
            "tags": [],
            "needs_background": "light"
          }
        }
      ]
    },
    {
      "cell_type": "markdown",
      "metadata": {
        "id": "H6cXmgLrxLmr",
        "colab_type": "text"
      },
      "source": [
        "**LOAD MODEL** "
      ]
    },
    {
      "cell_type": "markdown",
      "metadata": {
        "id": "eAMrdCYSG9Lh",
        "colab_type": "text"
      },
      "source": [
        "* Lets load the <font color='DARKBLUE'>**[ PRE-TRAINED ]**</font> *Model Weights* and *Model Architecture*."
      ]
    },
    {
      "cell_type": "code",
      "metadata": {
        "id": "vAFV3-C_g83D",
        "colab_type": "code",
        "colab": {}
      },
      "source": [
        "from tensorflow.keras.models import model_from_json"
      ],
      "execution_count": 0,
      "outputs": []
    },
    {
      "cell_type": "code",
      "metadata": {
        "id": "5JXvvTZZg_9a",
        "colab_type": "code",
        "outputId": "e23eac4f-538d-49d2-cd3e-4c0966534986",
        "colab": {
          "base_uri": "https://localhost:8080/",
          "height": 35
        }
      },
      "source": [
        "filename = DATA_SET_NAME+'/Industry Grade Project - Building a Chatbot/model-weights.h5'\n",
        "\n",
        "json_file = open(DATA_SET_NAME+'/Industry Grade Project - Building a Chatbot/word-architecture.json', 'r')\n",
        "loaded_model_json = json_file.read()\n",
        "json_file.close()\n",
        "loaded_model = model_from_json(loaded_model_json)\n",
        "loaded_model.load_weights(filename)\n",
        "print('Model Loaded !')"
      ],
      "execution_count": 80,
      "outputs": [
        {
          "output_type": "stream",
          "text": [
            "Model Loaded !\n"
          ],
          "name": "stdout"
        }
      ]
    },
    {
      "cell_type": "markdown",
      "metadata": {
        "id": "rfBh0jGWIhd7",
        "colab_type": "text"
      },
      "source": [
        "### Compile the model using the **rmsprop** optimizer and  **categorical_crossentropy** loss function."
      ]
    },
    {
      "cell_type": "code",
      "metadata": {
        "id": "OBMj5n6jhARM",
        "colab_type": "code",
        "colab": {}
      },
      "source": [
        "loaded_model.compile(loss = 'categorical_crossentropy', optimizer='rmsprop')"
      ],
      "execution_count": 0,
      "outputs": []
    },
    {
      "cell_type": "markdown",
      "metadata": {
        "id": "eOTTSdcndcFS",
        "colab_type": "text"
      },
      "source": [
        "# Prediction"
      ]
    },
    {
      "cell_type": "markdown",
      "metadata": {
        "id": "6bMvKjWfhP0z",
        "colab_type": "text"
      },
      "source": [
        "![Encoder-Decoder](https://qph.fs.quoracdn.net/main-qimg-7dab66200fb636d8eb882475e6a4fe87)"
      ]
    },
    {
      "cell_type": "markdown",
      "metadata": {
        "id": "3ZdqaYKOIXGC",
        "colab_type": "text"
      },
      "source": [
        "## Inference"
      ]
    },
    {
      "cell_type": "code",
      "metadata": {
        "id": "4zd2oGwyhGFU",
        "colab_type": "code",
        "colab": {}
      },
      "source": [
        "encoder_model = Model(encoder_inputs, encoder_states)\n",
        "decoder_state_inputs = [Input(shape=(HIDDEN_UNITS,)), Input(shape=(HIDDEN_UNITS,))]\n",
        "decoder_outputs, state_h, state_c = decoder_lstm(decoder_inputs, initial_state=decoder_state_inputs)\n",
        "decoder_states = [state_h, state_c]\n",
        "decoder_outputs = decoder_dense(decoder_outputs)\n",
        "decoder_model = Model([decoder_inputs] + decoder_state_inputs, [decoder_outputs] + decoder_states)"
      ],
      "execution_count": 0,
      "outputs": []
    },
    {
      "cell_type": "markdown",
      "metadata": {
        "id": "f0WKRttKJUaB",
        "colab_type": "text"
      },
      "source": [
        "## **STEPS:**\n",
        "\n",
        "\n",
        "1.   Encode the Input Sequence,returns its **internal states**. { **states_value** }\n",
        "2.   Run Decoder using start of sequence character as input and encoder's internal states as decoder initial states .{ **[target_seq] + states_value** } \n",
        "3.   **Append** the **character predicted** by the decoder **to decoded sequence** ie [ **target_text** ].\n",
        "4.    **Repeat** the process with the previously predicted character token as input and updates internal states\n",
        "  \n",
        "```\n",
        "                    ENCODE -> DECODE -> APPEND -> REPEAT\n",
        "```\n",
        "\n",
        "\n",
        "\n"
      ]
    },
    {
      "cell_type": "code",
      "metadata": {
        "id": "6NGa_FkdhVOx",
        "colab_type": "code",
        "colab": {}
      },
      "source": [
        "def reply(input_text):\n",
        "        input_seq = []\n",
        "        input_emb = []\n",
        "        for word in nltk.word_tokenize(input_text.lower()):\n",
        "            if not in_white_list(word):\n",
        "                continue\n",
        "            emb = np.zeros(shape=GLOVE_EMBEDDING_SIZE)\n",
        "            if word in word2embedding:\n",
        "                emb = word2embedding[word]\n",
        "            \n",
        "            input_emb.append(emb)\n",
        "            #print('input_emb --',input_emb)\n",
        "        input_seq.append(input_emb)\n",
        "        #print('input_seq --',input_seq)\n",
        "        input_seq = pad_sequences(input_seq,encoder_max_seq_length)\n",
        "        states_value = encoder_model.predict(input_seq)\n",
        "        #print('States Value --',states_value)\n",
        "        target_seq = np.zeros((1, 1, GLOVE_EMBEDDING_SIZE))\n",
        "        target_seq[0, 0, :] = word2embedding['start']\n",
        "        #print('Target Sequence - ',target_seq)\n",
        "        target_text = ''\n",
        "        target_text_len = 0\n",
        "        terminated = False\n",
        "        while not terminated:\n",
        "            output_tokens, h, c = decoder_model.predict([target_seq] + states_value)\n",
        "            #print('Output tokens -',output_tokens,'h -',h,'c -',c)\n",
        "            sample_token_idx = np.argmax(output_tokens[0, -1, :])\n",
        "            sample_word = target_idx2word[sample_token_idx]\n",
        "            target_text_len += 1\n",
        "\n",
        "            if sample_word != 'start' and sample_word != 'end':\n",
        "                target_text += ' ' + sample_word\n",
        "\n",
        "            if sample_word == 'end' or target_text_len >= decoder_max_seq_length:\n",
        "                terminated = True\n",
        "\n",
        "            target_seq = np.zeros((1, 1, GLOVE_EMBEDDING_SIZE))\n",
        "            if sample_word in word2embedding:\n",
        "                target_seq[0, 0, :] = word2embedding[sample_word]\n",
        "\n",
        "            states_value = [h, c]\n",
        "        return target_text.strip()"
      ],
      "execution_count": 0,
      "outputs": []
    },
    {
      "cell_type": "markdown",
      "metadata": {
        "id": "LlZTSLWmL3DT",
        "colab_type": "text"
      },
      "source": [
        "# Testing Model"
      ]
    },
    {
      "cell_type": "code",
      "metadata": {
        "id": "Ek2iZXImhViq",
        "colab_type": "code",
        "colab": {}
      },
      "source": [
        "def test_model(ques):\n",
        "    rikisays=reply(ques)\n",
        "    return rikisays"
      ],
      "execution_count": 0,
      "outputs": []
    },
    {
      "cell_type": "code",
      "metadata": {
        "id": "irHIiCT6hflr",
        "colab_type": "code",
        "outputId": "d4a86cc9-322c-4d9d-f161-085a9aa064d9",
        "colab": {
          "base_uri": "https://localhost:8080/",
          "height": 72
        }
      },
      "source": [
        "mayank= 'Are you free tommorow?'\n",
        "print('Mayank :',mayank)\n",
        "riki = test_model(mayank)\n",
        "print('Riki :',riki)"
      ],
      "execution_count": 78,
      "outputs": [
        {
          "output_type": "stream",
          "text": [
            "Mayank : Are you free tommorow?\n",
            "Riki : both madness madness madness madness laurie madness madness battlefield rifles offensive concerned rubbing hid offensive rubbing hid offensive rubbing hid tomb gag child concerned ross powerful majority businessman subscription pinned gag concerned past jordan jordan jordan james solve hid hid jordan jordan\n"
          ],
          "name": "stdout"
        }
      ]
    },
    {
      "cell_type": "markdown",
      "metadata": {
        "id": "CVbiGCQWL_JY",
        "colab_type": "text"
      },
      "source": [
        "## <font color='orange'> ............... **NEEDS MORE TRAINING**...............</font>"
      ]
    },
    {
      "cell_type": "markdown",
      "metadata": {
        "id": "fDw_5xLO5EDP",
        "colab_type": "text"
      },
      "source": [
        "\n",
        "\n",
        "> **SUMMARY**\n",
        "\n",
        "\n",
        "\n",
        "1.   Load the glove word embedding in to a dictionary where the **key** is a unique **word token** and the **value** is a **d** dimension vector \n",
        "2.   Basic Text Preprocessing \n",
        "3.   We are adding **start** and **end** to every target text.This will later help our **MODEL** to determine **when to start** and more importantly - **end sequences** . We need this due to the fact that we dont know a-priori how long the output sequence will be.\n",
        "4. We are creating two dictioinary **target_idx2word** and **target_word2idx** .We are considerding only **100** most comman tokens with highest frequency.\n",
        "5. But these input text won't work as input to our model.We **need to convert characters into numerical values**.For Embedding we i am using GLOVE.\n",
        "6. We'll need input data for both the encoder and the decoder of the model, as well as the target data.<br>[**GENERATING INPUT DATA PER BATCH**]\n",
        "\n",
        "*  The **encoder_input_data_batch** will consist of  samples of the maximum sequence length (40) filled with the respective one-hot-encoded tokens\n",
        "*   The **decoder_input_data_batch** and the **decoder_target_data_batch ** are both constructed in the same way as the input data for the encoder.\n",
        "*   We need to construct those two sequences because we're training our model through a process called teacher forcing, where the decoder learns to generate **decoder_target_data_batch[lineIdx, idx - 1, w2idx]** given **decoder_input_data_batch[lineIdx, idx, :]** while taking into account the input sequence via the encoder's internal state. Therefore we have to offset decoder_target_data_batch by one timestep.\n",
        "7. Building the **MODEL**\n",
        "\n",
        "*   Model consists of **2 LSTM'S**.\n",
        "*   **1st LSTM** will be serve as **Encoder**,encoding the input sequences and producing the internal state vectors.\n",
        "*   **2nd LSTM** is responsible for predicting (**Decoder**) the indivisual characters of the target sequence.\n",
        "*  While creating the 1st LSTM layer,**return_state=True**.since we want to use the **ENCODER internal state vectors** for the DECODER.\n",
        "* Using ENCODER internal state vectors to build DECODER\n",
        "* While creating 2nd LSTM layer,**return_sequences=True, return_state=True**.We are **not using DECODER internal state vectors (Later,we will use this for INFERENCE)** for training.\n",
        "* Use **DENSE Layer** for getting the indivisual character from the decoder's output.\n",
        "* Now,glue both the part together using **Keras's MODEL functional API**\n",
        "8. Compile the model using the  rmsprop optimizer and  categorical_crossentropy loss function.\n",
        "9. Training the **MODEL** with given hyperparameters.\n",
        "10. Testing the **MODEL**\n",
        "\n",
        "\n",
        "\n",
        "\n",
        "\n",
        "\n"
      ]
    },
    {
      "cell_type": "markdown",
      "metadata": {
        "id": "5KU6cfnyhnUZ",
        "colab_type": "text"
      },
      "source": [
        " <font color='green'> **..............  THE END ................**</font>"
      ]
    }
  ]
}